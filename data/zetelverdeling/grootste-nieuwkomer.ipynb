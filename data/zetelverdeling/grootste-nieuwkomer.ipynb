{
 "cells": [
  {
   "cell_type": "code",
   "execution_count": 10,
   "id": "db70dfa9",
   "metadata": {},
   "outputs": [],
   "source": [
    "import pandas as pd\n",
    "df = pd.read_csv('zetel-data/tk_zetels150_1956-2023.csv')"
   ]
  },
  {
   "cell_type": "code",
   "execution_count": 11,
   "id": "cd07639c",
   "metadata": {},
   "outputs": [
    {
     "name": "stdout",
     "output_type": "stream",
     "text": [
      "         Partij  From_Year  To_Year  Seats_Gained\n",
      "0           CDA       1972     1977            49\n",
      "1       GL-PvdA       2021     2023            25\n",
      "2           NSC       2021     2023            20\n",
      "3           PVV       2003     2006             9\n",
      "4        DS '70       1967     1971             8\n",
      "5           D66       1965     1967             7\n",
      "6           AOV       1989     1994             6\n",
      "7    GroenLinks       1986     1989             6\n",
      "8  Boerenpartij       1959     1963             3\n",
      "9          DENK       2012     2017             3\n"
     ]
    }
   ],
   "source": [
    "# Sorteer op partij en jaar\n",
    "df_sorted = df.sort_values(['Partij', 'Jaar'])\n",
    "\n",
    "# Zoek overgangen van 0 naar >0 zetels\n",
    "results = []\n",
    "for partij, group in df_sorted.groupby('Partij'):\n",
    "    group = group.reset_index(drop=True)\n",
    "    for i in range(1, len(group)):\n",
    "        prev_seats = group.loc[i-1, 'Zetels']\n",
    "        curr_seats = group.loc[i, 'Zetels']\n",
    "        if prev_seats == 0 and curr_seats > 0:\n",
    "            results.append({\n",
    "                'Partij': partij,\n",
    "                'From_Year': group.loc[i-1, 'Jaar'],\n",
    "                'To_Year': group.loc[i, 'Jaar'],\n",
    "                'Seats_Gained': curr_seats,\n",
    "            })\n",
    "\n",
    "# Top 10 grootste overgangen\n",
    "top_10 = sorted(results, key=lambda x: x['Seats_Gained'], reverse=True)[:10]\n",
    "top_10_df = pd.DataFrame(top_10)\n",
    "print(top_10_df)\n"
   ]
  },
  {
   "cell_type": "code",
   "execution_count": 12,
   "id": "b91a191e",
   "metadata": {},
   "outputs": [
    {
     "name": "stdout",
     "output_type": "stream",
     "text": [
      "       Partij  From_Year  To_Year  Seats_Lost\n",
      "0         KVP       1972     1977          27\n",
      "1         ARP       1972     1977          14\n",
      "2        PvdA       2021     2023           9\n",
      "3  GroenLinks       2021     2023           8\n",
      "4         LPF       2003     2006           8\n",
      "5         CHU       1972     1977           7\n",
      "6         AOV       1994     1998           6\n",
      "7          CD       1994     1998           3\n",
      "8         CPN       1982     1986           3\n",
      "9          LN       2002     2003           2\n"
     ]
    }
   ],
   "source": [
    "# Sorteer op partij en jaar\n",
    "df_sorted = df.sort_values(['Partij', 'Jaar'])\n",
    "\n",
    "# Zoek overgangen van >0 naar 0 zetels\n",
    "results_down = []\n",
    "for partij, group in df_sorted.groupby('Partij'):\n",
    "    group = group.reset_index(drop=True)\n",
    "    for i in range(1, len(group)):\n",
    "        prev_seats = group.loc[i-1, 'Zetels']\n",
    "        curr_seats = group.loc[i, 'Zetels']\n",
    "        if prev_seats > 0 and curr_seats == 0:\n",
    "            results_down.append({\n",
    "                'Partij': partij,\n",
    "                'From_Year': group.loc[i-1, 'Jaar'],\n",
    "                'To_Year': group.loc[i, 'Jaar'],\n",
    "                'Seats_Lost': prev_seats,\n",
    "            })\n",
    "\n",
    "# Grootste overgang\n",
    "top_down = sorted(results_down, key=lambda x: x['Seats_Lost'], reverse=True)[:10]\n",
    "top_down_df = pd.DataFrame(top_down)\n",
    "print(top_down_df)\n"
   ]
  },
  {
   "cell_type": "code",
   "execution_count": 13,
   "id": "77e93a1a",
   "metadata": {},
   "outputs": [
    {
     "name": "stdout",
     "output_type": "stream",
     "text": [
      "  Partij  From_Year  To_Year  Seats_Lost\n",
      "0   PvdA       2012     2017          29\n",
      "1    KVP       1972     1977          27\n",
      "2   PvdA       1998     2002          22\n",
      "3    CDA       1989     1994          20\n",
      "4    CDA       2006     2010          20\n",
      "5    LPF       2002     2003          18\n",
      "6    D66       2021     2023          15\n",
      "7    ARP       1972     1977          14\n",
      "8    VVD       1998     2002          14\n",
      "9   PvdA       1989     1994          12\n"
     ]
    }
   ],
   "source": [
    "# Sorteer op partij en jaar\n",
    "df_sorted = df.sort_values(['Partij', 'Jaar'])\n",
    "\n",
    "# Zoek grootste verliezen tussen opeenvolgende verkiezingen\n",
    "losses = []\n",
    "for partij, group in df_sorted.groupby('Partij'):\n",
    "    group = group.reset_index(drop=True)\n",
    "    for i in range(1, len(group)):\n",
    "        prev_seats = group.loc[i-1, 'Zetels']\n",
    "        curr_seats = group.loc[i, 'Zetels']\n",
    "        seats_lost = prev_seats - curr_seats\n",
    "        if seats_lost > 0:\n",
    "            losses.append({\n",
    "                'Partij': partij,\n",
    "                'From_Year': group.loc[i-1, 'Jaar'],\n",
    "                'To_Year': group.loc[i, 'Jaar'],\n",
    "                'Seats_Lost': seats_lost,\n",
    "            })\n",
    "\n",
    "# Top 10 grootste verliezen\n",
    "top_losses = sorted(losses, key=lambda x: x['Seats_Lost'], reverse=True)[:10]\n",
    "top_losses_df = pd.DataFrame(top_losses)\n",
    "print(top_losses_df)\n"
   ]
  },
  {
   "cell_type": "code",
   "execution_count": 14,
   "id": "67a5c0fe",
   "metadata": {},
   "outputs": [
    {
     "name": "stdout",
     "output_type": "stream",
     "text": [
      "     Partij  Year_0  Year_n  Year_0_again  Seats_n\n",
      "0       AOV    1989    1994          1998        6\n",
      "1      BIJ1    2017    2021          2023        1\n",
      "2        CP    1981    1982          1986        1\n",
      "3       EVP    1981    1982          1986        1\n",
      "4       NMP    1967    1971          1972        2\n",
      "5      RKPN    1971    1972          1977        1\n",
      "6  Unie 55+    1989    1994          1998        1\n"
     ]
    }
   ],
   "source": [
    "# Sorteer op partij en jaar\n",
    "df_sorted = df.sort_values(['Partij', 'Jaar'])\n",
    "\n",
    "results_pattern = []\n",
    "for partij, group in df_sorted.groupby('Partij'):\n",
    "    group = group.reset_index(drop=True)\n",
    "    for i in range(2, len(group)):\n",
    "        prev_prev_seats = group.loc[i-2, 'Zetels']\n",
    "        prev_seats = group.loc[i-1, 'Zetels']\n",
    "        curr_seats = group.loc[i, 'Zetels']\n",
    "        # patroon: 0 -> n (>0) -> 0\n",
    "        if prev_prev_seats == 0 and prev_seats > 0 and curr_seats == 0:\n",
    "            results_pattern.append({\n",
    "                'Partij': partij,\n",
    "                'Year_0': group.loc[i-2, 'Jaar'],\n",
    "                'Year_n': group.loc[i-1, 'Jaar'],\n",
    "                'Year_0_again': group.loc[i, 'Jaar'],\n",
    "                'Seats_n': prev_seats\n",
    "            })\n",
    "\n",
    "pattern_df = pd.DataFrame(results_pattern)\n",
    "print(pattern_df)\n"
   ]
  }
 ],
 "metadata": {
  "kernelspec": {
   "display_name": "base",
   "language": "python",
   "name": "python3"
  },
  "language_info": {
   "codemirror_mode": {
    "name": "ipython",
    "version": 3
   },
   "file_extension": ".py",
   "mimetype": "text/x-python",
   "name": "python",
   "nbconvert_exporter": "python",
   "pygments_lexer": "ipython3",
   "version": "3.12.7"
  }
 },
 "nbformat": 4,
 "nbformat_minor": 5
}
